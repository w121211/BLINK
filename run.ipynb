{
 "cells": [
  {
   "cell_type": "markdown",
   "metadata": {},
   "source": [
    "# setup"
   ]
  },
  {
   "cell_type": "code",
   "execution_count": 1,
   "metadata": {},
   "outputs": [
    {
     "name": "stdout",
     "output_type": "stream",
     "text": [
      "/workspace/BLINK\n",
      "Collecting torch==1.2.0\n",
      "  Downloading torch-1.2.0-cp37-cp37m-manylinux1_x86_64.whl (748.9 MB)\n",
      "\u001b[K     |███▌                            | 82.2 MB 4.9 MB/s eta 0:02:17^C  |                                | 686 kB 853 kB/s eta 0:14:37     |                                | 829 kB 853 kB/s eta 0:14:37     |▏                               | 4.8 MB 853 kB/s eta 0:14:32     |▋                               | 14.1 MB 3.0 MB/s eta 0:04:06     |▊                               | 17.1 MB 4.4 MB/s eta 0:02:45     |▊                               | 17.1 MB 4.4 MB/s eta 0:02:45     |▊                               | 18.2 MB 4.4 MB/s eta 0:02:45     |▉                               | 18.3 MB 4.4 MB/s eta 0:02:45     |█▉                              | 42.6 MB 6.0 MB/s eta 0:01:58     |██                              | 47.1 MB 19.7 MB/s eta 0:00:36     |██▏                             | 50.8 MB 1.4 MB/s eta 0:08:29     |██▍                             | 54.8 MB 1.4 MB/s eta 0:08:26     |██▌                             | 59.0 MB 5.2 MB/s eta 0:02:14     |███▏                            | 74.3 MB 7.3 MB/s eta 0:01:32     |███▎                            | 78.0 MB 7.3 MB/s eta 0:01:32\n",
      "\n",
      "\u001b[31mERROR: Operation cancelled by user\u001b[0m\n"
     ]
    }
   ],
   "source": [
    "%cd /workspace/BLINK\n",
    "\n",
    "# sudo apt-get install gcc \n",
    "\n",
    "# Download pre-trained model\n",
    "# !apt update && apt install wget\n",
    "# !chmod +x download_models.sh\n",
    "# !./download_models.sh\n",
    "\n",
    "# !pip install -r requirements.txt\n",
    "\n",
    "# Run\n",
    "# !PYTHONPATH=. python blink/main_dense.py"
   ]
  },
  {
   "cell_type": "code",
   "execution_count": 2,
   "metadata": {},
   "outputs": [
    {
     "name": "stdout",
     "output_type": "stream",
     "text": [
      "1.4.0\n"
     ]
    }
   ],
   "source": []
  }
 ],
 "metadata": {
  "kernelspec": {
   "display_name": "Python 3",
   "language": "python",
   "name": "python3"
  },
  "language_info": {
   "codemirror_mode": {
    "name": "ipython",
    "version": 3
   },
   "file_extension": ".py",
   "mimetype": "text/x-python",
   "name": "python",
   "nbconvert_exporter": "python",
   "pygments_lexer": "ipython3",
   "version": "3.7.4"
  }
 },
 "nbformat": 4,
 "nbformat_minor": 4
}
