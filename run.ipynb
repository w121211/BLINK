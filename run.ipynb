{
 "cells": [
  {
   "cell_type": "markdown",
   "metadata": {},
   "source": [
    "# setup"
   ]
  },
  {
   "cell_type": "code",
   "execution_count": null,
   "metadata": {},
   "outputs": [
    {
     "name": "stdout",
     "output_type": "stream",
     "text": [
      "/workspace/BLINK\n",
      "--2020-07-25 12:54:10--  http://dl.fbaipublicfiles.com/BLINK/all_entities_large.t7\n",
      "Resolving dl.fbaipublicfiles.com (dl.fbaipublicfiles.com)... 172.67.9.4, 104.22.75.142, 104.22.74.142, ...\n",
      "Connecting to dl.fbaipublicfiles.com (dl.fbaipublicfiles.com)|172.67.9.4|:80... connected.\n",
      "HTTP request sent, awaiting response... 200 OK\n",
      "Length: 24180846943 (23G) [application/octet-stream]\n",
      "Saving to: ‘all_entities_large.t7’\n",
      "\n",
      "all_entities_large.  12%[=>                  ]   2.79G  3.48MB/s    eta 66m 37s"
     ]
    }
   ],
   "source": [
    "%cd /workspace/BLINK\n",
    "\n",
    "# !apt update && apt install wget\n",
    "\n",
    "!chmod +x download_models.sh\n",
    "!./download_models.sh"
   ]
  }
 ],
 "metadata": {
  "kernelspec": {
   "display_name": "Python 3",
   "language": "python",
   "name": "python3"
  },
  "language_info": {
   "codemirror_mode": {
    "name": "ipython",
    "version": 3
   },
   "file_extension": ".py",
   "mimetype": "text/x-python",
   "name": "python",
   "nbconvert_exporter": "python",
   "pygments_lexer": "ipython3",
   "version": "3.7.4"
  }
 },
 "nbformat": 4,
 "nbformat_minor": 4
}
