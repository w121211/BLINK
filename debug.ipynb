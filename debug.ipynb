{
 "cells": [
  {
   "cell_type": "code",
   "execution_count": 2,
   "metadata": {},
   "outputs": [
    {
     "name": "stdout",
     "output_type": "stream",
     "text": [
      "Collecting flair\n",
      "  Downloading flair-0.5.1-py3-none-any.whl (201 kB)\n",
      "\u001b[K     |████████████████████████████████| 201 kB 913 kB/s eta 0:00:01\n",
      "\u001b[?25hRequirement already satisfied: tqdm>=4.26.0 in /opt/conda/lib/python3.7/site-packages (from flair) (4.45.0)\n",
      "Requirement already satisfied: hyperopt>=0.1.1 in /opt/conda/lib/python3.7/site-packages (from flair) (0.2.3)\n",
      "Requirement already satisfied: gensim>=3.4.0 in /opt/conda/lib/python3.7/site-packages (from flair) (3.8.1)\n",
      "Requirement already satisfied: matplotlib>=2.2.3 in /opt/conda/lib/python3.7/site-packages (from flair) (3.1.3)\n",
      "Requirement already satisfied: mpld3==0.3 in /opt/conda/lib/python3.7/site-packages (from flair) (0.3)\n",
      "Requirement already satisfied: scikit-learn>=0.21.3 in /opt/conda/lib/python3.7/site-packages (from flair) (0.22.2.post1)\n",
      "Collecting transformers>=3.0.0\n",
      "  Downloading transformers-3.0.2-py3-none-any.whl (769 kB)\n",
      "\u001b[K     |████████████████████████████████| 769 kB 2.3 MB/s eta 0:00:01\n",
      "\u001b[?25hRequirement already satisfied: sentencepiece!=0.1.92 in /opt/conda/lib/python3.7/site-packages (from flair) (0.1.85)\n",
      "Requirement already satisfied: pytest>=5.3.2 in /opt/conda/lib/python3.7/site-packages (from flair) (5.4.1)\n",
      "Requirement already satisfied: deprecated>=1.2.4 in /opt/conda/lib/python3.7/site-packages (from flair) (1.2.8)\n",
      "Requirement already satisfied: torch>=1.1.0 in /opt/conda/lib/python3.7/site-packages (from flair) (1.4.0)\n",
      "Requirement already satisfied: regex in /opt/conda/lib/python3.7/site-packages (from flair) (2020.4.4)\n",
      "Requirement already satisfied: bpemb>=0.2.9 in /opt/conda/lib/python3.7/site-packages (from flair) (0.3.0)\n",
      "Requirement already satisfied: langdetect in /opt/conda/lib/python3.7/site-packages (from flair) (1.0.7)\n",
      "Requirement already satisfied: tabulate in /opt/conda/lib/python3.7/site-packages (from flair) (0.8.7)\n",
      "Requirement already satisfied: sqlitedict>=1.6.0 in /opt/conda/lib/python3.7/site-packages (from flair) (1.6.0)\n",
      "Requirement already satisfied: python-dateutil>=2.6.1 in /opt/conda/lib/python3.7/site-packages (from flair) (2.8.1)\n",
      "Requirement already satisfied: segtok>=1.5.7 in /opt/conda/lib/python3.7/site-packages (from flair) (1.5.7)\n",
      "Requirement already satisfied: scipy in /opt/conda/lib/python3.7/site-packages (from hyperopt>=0.1.1->flair) (1.4.1)\n",
      "Requirement already satisfied: cloudpickle in /opt/conda/lib/python3.7/site-packages (from hyperopt>=0.1.1->flair) (1.3.0)\n",
      "Requirement already satisfied: six in /opt/conda/lib/python3.7/site-packages (from hyperopt>=0.1.1->flair) (1.12.0)\n",
      "Requirement already satisfied: future in /opt/conda/lib/python3.7/site-packages (from hyperopt>=0.1.1->flair) (0.18.2)\n",
      "Requirement already satisfied: numpy in /opt/conda/lib/python3.7/site-packages (from hyperopt>=0.1.1->flair) (1.17.4)\n",
      "Collecting networkx==2.2\n",
      "  Downloading networkx-2.2.zip (1.7 MB)\n",
      "\u001b[K     |████████████████████████████████| 1.7 MB 2.9 MB/s eta 0:00:01     |███████████████████████         | 1.2 MB 2.9 MB/s eta 0:00:01     |███████████████████████████████▍| 1.7 MB 2.9 MB/s eta 0:00:01\n",
      "\u001b[?25hRequirement already satisfied: smart-open>=1.8.1 in /opt/conda/lib/python3.7/site-packages (from gensim>=3.4.0->flair) (1.11.1)\n",
      "Requirement already satisfied: kiwisolver>=1.0.1 in /opt/conda/lib/python3.7/site-packages (from matplotlib>=2.2.3->flair) (1.2.0)\n",
      "Requirement already satisfied: cycler>=0.10 in /opt/conda/lib/python3.7/site-packages (from matplotlib>=2.2.3->flair) (0.10.0)\n",
      "Requirement already satisfied: pyparsing!=2.0.4,!=2.1.2,!=2.1.6,>=2.0.1 in /opt/conda/lib/python3.7/site-packages (from matplotlib>=2.2.3->flair) (2.4.7)\n",
      "Requirement already satisfied: joblib>=0.11 in /opt/conda/lib/python3.7/site-packages (from scikit-learn>=0.21.3->flair) (0.14.1)\n",
      "Requirement already satisfied: requests in /opt/conda/lib/python3.7/site-packages (from transformers>=3.0.0->flair) (2.22.0)\n",
      "Collecting tokenizers==0.8.1.rc1\n",
      "  Downloading tokenizers-0.8.1rc1-cp37-cp37m-manylinux1_x86_64.whl (3.0 MB)\n",
      "\u001b[K     |████████████████████████████████| 3.0 MB 3.5 MB/s eta 0:00:01\n",
      "\u001b[?25hRequirement already satisfied: packaging in /opt/conda/lib/python3.7/site-packages (from transformers>=3.0.0->flair) (20.1)\n",
      "Requirement already satisfied: sacremoses in /opt/conda/lib/python3.7/site-packages (from transformers>=3.0.0->flair) (0.0.41)\n",
      "Requirement already satisfied: filelock in /opt/conda/lib/python3.7/site-packages (from transformers>=3.0.0->flair) (3.0.12)\n",
      "Requirement already satisfied: py>=1.5.0 in /opt/conda/lib/python3.7/site-packages (from pytest>=5.3.2->flair) (1.8.1)\n",
      "Requirement already satisfied: attrs>=17.4.0 in /opt/conda/lib/python3.7/site-packages (from pytest>=5.3.2->flair) (19.3.0)\n",
      "Requirement already satisfied: more-itertools>=4.0.0 in /opt/conda/lib/python3.7/site-packages (from pytest>=5.3.2->flair) (8.2.0)\n",
      "Requirement already satisfied: pluggy<1.0,>=0.12 in /opt/conda/lib/python3.7/site-packages (from pytest>=5.3.2->flair) (0.13.0)\n",
      "Requirement already satisfied: wcwidth in /opt/conda/lib/python3.7/site-packages (from pytest>=5.3.2->flair) (0.1.7)\n",
      "Requirement already satisfied: importlib-metadata>=0.12 in /opt/conda/lib/python3.7/site-packages (from pytest>=5.3.2->flair) (1.6.0)\n",
      "Requirement already satisfied: wrapt<2,>=1.10 in /opt/conda/lib/python3.7/site-packages (from deprecated>=1.2.4->flair) (1.12.1)\n",
      "Requirement already satisfied: decorator>=4.3.0 in /opt/conda/lib/python3.7/site-packages (from networkx==2.2->hyperopt>=0.1.1->flair) (4.4.1)\n",
      "Requirement already satisfied: boto3 in /opt/conda/lib/python3.7/site-packages (from smart-open>=1.8.1->gensim>=3.4.0->flair) (1.12.40)\n",
      "Requirement already satisfied: boto in /opt/conda/lib/python3.7/site-packages (from smart-open>=1.8.1->gensim>=3.4.0->flair) (2.49.0)\n",
      "Requirement already satisfied: chardet<3.1.0,>=3.0.2 in /opt/conda/lib/python3.7/site-packages (from requests->transformers>=3.0.0->flair) (3.0.4)\n",
      "Requirement already satisfied: urllib3!=1.25.0,!=1.25.1,<1.26,>=1.21.1 in /opt/conda/lib/python3.7/site-packages (from requests->transformers>=3.0.0->flair) (1.24.2)\n",
      "Requirement already satisfied: certifi>=2017.4.17 in /opt/conda/lib/python3.7/site-packages (from requests->transformers>=3.0.0->flair) (2020.6.20)\n",
      "Requirement already satisfied: idna<2.9,>=2.5 in /opt/conda/lib/python3.7/site-packages (from requests->transformers>=3.0.0->flair) (2.8)\n",
      "Requirement already satisfied: click in /opt/conda/lib/python3.7/site-packages (from sacremoses->transformers>=3.0.0->flair) (7.1.1)\n",
      "Requirement already satisfied: zipp>=0.5 in /opt/conda/lib/python3.7/site-packages (from importlib-metadata>=0.12->pytest>=5.3.2->flair) (3.1.0)\n",
      "Requirement already satisfied: jmespath<1.0.0,>=0.7.1 in /opt/conda/lib/python3.7/site-packages (from boto3->smart-open>=1.8.1->gensim>=3.4.0->flair) (0.9.5)\n",
      "Requirement already satisfied: s3transfer<0.4.0,>=0.3.0 in /opt/conda/lib/python3.7/site-packages (from boto3->smart-open>=1.8.1->gensim>=3.4.0->flair) (0.3.3)\n",
      "Requirement already satisfied: botocore<1.16.0,>=1.15.40 in /opt/conda/lib/python3.7/site-packages (from boto3->smart-open>=1.8.1->gensim>=3.4.0->flair) (1.15.40)\n",
      "Requirement already satisfied: docutils<0.16,>=0.10 in /opt/conda/lib/python3.7/site-packages (from botocore<1.16.0,>=1.15.40->boto3->smart-open>=1.8.1->gensim>=3.4.0->flair) (0.15.2)\n",
      "Building wheels for collected packages: networkx\n",
      "  Building wheel for networkx (setup.py) ... \u001b[?25ldone\n",
      "\u001b[?25h  Created wheel for networkx: filename=networkx-2.2-py2.py3-none-any.whl size=1527322 sha256=064e7ad5452b8f0aa3aea9eb3c0860a39c95b4a78ac49bca29b634c289ec199e\n",
      "  Stored in directory: /root/.cache/pip/wheels/49/fb/7f/02c31ca537b34e1073844b733832e4c3a94071d8edda2c0faa\n",
      "Successfully built networkx\n",
      "Installing collected packages: tokenizers, transformers, flair, networkx\n",
      "  Attempting uninstall: tokenizers\n",
      "    Found existing installation: tokenizers 0.5.2\n",
      "    Uninstalling tokenizers-0.5.2:\n",
      "      Successfully uninstalled tokenizers-0.5.2\n",
      "  Attempting uninstall: transformers\n",
      "    Found existing installation: transformers 2.8.0\n",
      "    Uninstalling transformers-2.8.0:\n",
      "      Successfully uninstalled transformers-2.8.0\n",
      "  Attempting uninstall: networkx\n",
      "    Found existing installation: networkx 2.4\n",
      "    Uninstalling networkx-2.4:\n",
      "      Successfully uninstalled networkx-2.4\n"
     ]
    },
    {
     "name": "stdout",
     "output_type": "stream",
     "text": [
      "Successfully installed flair-0.5.1 networkx-2.2 tokenizers-0.8.1rc1 transformers-3.0.2\r\n"
     ]
    }
   ],
   "source": [
    "# !pip install flair"
   ]
  },
  {
   "cell_type": "markdown",
   "metadata": {},
   "source": [
    "# NER\n",
    "\n",
    "查ner-ontonotes的tag意思：https://spacy.io/api/annotation"
   ]
  },
  {
   "cell_type": "code",
   "execution_count": 7,
   "metadata": {},
   "outputs": [
    {
     "name": "stdout",
     "output_type": "stream",
     "text": [
      "2020-07-26 12:30:26,124 https://s3.eu-central-1.amazonaws.com/alan-nlp/resources/models-v0.4/release-ner-ontonotes-0/en-ner-ontonotes-v0.4.pt not found in cache, downloading to /tmp/tmphfs9cb6t\n"
     ]
    },
    {
     "name": "stderr",
     "output_type": "stream",
     "text": [
      "100%|██████████| 1510100570/1510100570 [10:23<00:00, 2423214.53B/s]"
     ]
    },
    {
     "name": "stdout",
     "output_type": "stream",
     "text": [
      "2020-07-26 12:40:50,223 copying /tmp/tmphfs9cb6t to cache at /root/.flair/models/en-ner-ontonotes-v0.4.pt\n"
     ]
    },
    {
     "name": "stderr",
     "output_type": "stream",
     "text": [
      "\n"
     ]
    },
    {
     "name": "stdout",
     "output_type": "stream",
     "text": [
      "2020-07-26 12:40:55,276 removing temp file /tmp/tmphfs9cb6t\n",
      "2020-07-26 12:40:55,464 loading file /root/.flair/models/en-ner-ontonotes-v0.4.pt\n"
     ]
    }
   ],
   "source": [
    "from flair.models import SequenceTagger\n",
    "from flair.data import Sentence\n",
    "\n",
    "# model = SequenceTagger.load(\"ner\")\n",
    "model = SequenceTagger.load(\"ner-ontonotes\")\n",
    "\n",
    "sentences = [\"Bert and Ernie are two Muppets who appear together in numerous skits on the popular children's television show of the United States, Sesame Street.\"]\n",
    "\n",
    "mentions = []\n",
    "for sent_idx, sent in enumerate(sentences):\n",
    "    sent = Sentence(sent, use_tokenizer=True)\n",
    "    model.predict(sent)\n",
    "    sent_mentions = sent.to_dict(tag_type=\"ner\")[\"entities\"]\n",
    "    for mention in sent_mentions:\n",
    "        mention[\"sent_idx\"] = sent_idx\n",
    "    mentions.extend(sent_mentions)\n",
    "\n",
    "result = {\"sentences\": sentences, \"mentions\": mentions}"
   ]
  },
  {
   "cell_type": "code",
   "execution_count": 8,
   "metadata": {},
   "outputs": [
    {
     "data": {
      "text/plain": [
       "[{'text': 'Bert',\n",
       "  'start_pos': 0,\n",
       "  'end_pos': 4,\n",
       "  'labels': [PERSON (0.9998)],\n",
       "  'sent_idx': 0},\n",
       " {'text': 'Ernie',\n",
       "  'start_pos': 9,\n",
       "  'end_pos': 14,\n",
       "  'labels': [PERSON (0.9999)],\n",
       "  'sent_idx': 0},\n",
       " {'text': 'two',\n",
       "  'start_pos': 19,\n",
       "  'end_pos': 22,\n",
       "  'labels': [CARDINAL (0.9946)],\n",
       "  'sent_idx': 0},\n",
       " {'text': 'the United States',\n",
       "  'start_pos': 114,\n",
       "  'end_pos': 131,\n",
       "  'labels': [GPE (0.9884)],\n",
       "  'sent_idx': 0},\n",
       " {'text': 'Sesame Street',\n",
       "  'start_pos': 133,\n",
       "  'end_pos': 146,\n",
       "  'labels': [FAC (0.625)],\n",
       "  'sent_idx': 0}]"
      ]
     },
     "execution_count": 8,
     "metadata": {},
     "output_type": "execute_result"
    }
   ],
   "source": [
    "result[\"mentions\"]"
   ]
  },
  {
   "cell_type": "code",
   "execution_count": 6,
   "metadata": {},
   "outputs": [
    {
     "data": {
      "text/plain": [
       "[{'text': 'Bert',\n",
       "  'start_pos': 0,\n",
       "  'end_pos': 4,\n",
       "  'labels': [PER (0.9992)],\n",
       "  'sent_idx': 0},\n",
       " {'text': 'Ernie',\n",
       "  'start_pos': 9,\n",
       "  'end_pos': 14,\n",
       "  'labels': [PER (0.9998)],\n",
       "  'sent_idx': 0},\n",
       " {'text': 'Muppets',\n",
       "  'start_pos': 23,\n",
       "  'end_pos': 30,\n",
       "  'labels': [MISC (0.913)],\n",
       "  'sent_idx': 0},\n",
       " {'text': 'United States',\n",
       "  'start_pos': 118,\n",
       "  'end_pos': 131,\n",
       "  'labels': [LOC (0.9994)],\n",
       "  'sent_idx': 0},\n",
       " {'text': 'Sesame Street',\n",
       "  'start_pos': 133,\n",
       "  'end_pos': 146,\n",
       "  'labels': [LOC (0.8993)],\n",
       "  'sent_idx': 0}]"
      ]
     },
     "execution_count": 6,
     "metadata": {},
     "output_type": "execute_result"
    }
   ],
   "source": [
    "len(result[\"mentions\"])"
   ]
  }
 ],
 "metadata": {
  "kernelspec": {
   "display_name": "Python 3",
   "language": "python",
   "name": "python3"
  },
  "language_info": {
   "codemirror_mode": {
    "name": "ipython",
    "version": 3
   },
   "file_extension": ".py",
   "mimetype": "text/x-python",
   "name": "python",
   "nbconvert_exporter": "python",
   "pygments_lexer": "ipython3",
   "version": "3.7.4"
  }
 },
 "nbformat": 4,
 "nbformat_minor": 4
}
